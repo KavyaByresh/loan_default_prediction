{
 "cells": [
  {
   "cell_type": "code",
   "execution_count": 1,
   "metadata": {},
   "outputs": [],
   "source": [
    "import pandas as pd\n",
    "import numpy as np\n",
    "import matplotlib.pyplot as plt\n",
    "import seaborn as sns"
   ]
  },
  {
   "cell_type": "code",
   "execution_count": 2,
   "metadata": {},
   "outputs": [],
   "source": [
    "loan_data = pd.read_csv('XYZCorp_LendingData.txt',delimiter='\\t',parse_dates=['issue_d'],low_memory=False)"
   ]
  },
  {
   "cell_type": "code",
   "execution_count": 3,
   "metadata": {},
   "outputs": [
    {
     "data": {
      "text/html": [
       "<div>\n",
       "<style scoped>\n",
       "    .dataframe tbody tr th:only-of-type {\n",
       "        vertical-align: middle;\n",
       "    }\n",
       "\n",
       "    .dataframe tbody tr th {\n",
       "        vertical-align: top;\n",
       "    }\n",
       "\n",
       "    .dataframe thead th {\n",
       "        text-align: right;\n",
       "    }\n",
       "</style>\n",
       "<table border=\"1\" class=\"dataframe\">\n",
       "  <thead>\n",
       "    <tr style=\"text-align: right;\">\n",
       "      <th></th>\n",
       "      <th>id</th>\n",
       "      <th>member_id</th>\n",
       "      <th>loan_amnt</th>\n",
       "      <th>funded_amnt</th>\n",
       "      <th>funded_amnt_inv</th>\n",
       "      <th>term</th>\n",
       "      <th>int_rate</th>\n",
       "      <th>installment</th>\n",
       "      <th>grade</th>\n",
       "      <th>sub_grade</th>\n",
       "      <th>...</th>\n",
       "      <th>il_util</th>\n",
       "      <th>open_rv_12m</th>\n",
       "      <th>open_rv_24m</th>\n",
       "      <th>max_bal_bc</th>\n",
       "      <th>all_util</th>\n",
       "      <th>total_rev_hi_lim</th>\n",
       "      <th>inq_fi</th>\n",
       "      <th>total_cu_tl</th>\n",
       "      <th>inq_last_12m</th>\n",
       "      <th>default_ind</th>\n",
       "    </tr>\n",
       "  </thead>\n",
       "  <tbody>\n",
       "    <tr>\n",
       "      <th>0</th>\n",
       "      <td>1077501</td>\n",
       "      <td>1296599</td>\n",
       "      <td>5000.0</td>\n",
       "      <td>5000.0</td>\n",
       "      <td>4975.0</td>\n",
       "      <td>36 months</td>\n",
       "      <td>10.65</td>\n",
       "      <td>162.87</td>\n",
       "      <td>B</td>\n",
       "      <td>B2</td>\n",
       "      <td>...</td>\n",
       "      <td>NaN</td>\n",
       "      <td>NaN</td>\n",
       "      <td>NaN</td>\n",
       "      <td>NaN</td>\n",
       "      <td>NaN</td>\n",
       "      <td>NaN</td>\n",
       "      <td>NaN</td>\n",
       "      <td>NaN</td>\n",
       "      <td>NaN</td>\n",
       "      <td>0</td>\n",
       "    </tr>\n",
       "    <tr>\n",
       "      <th>1</th>\n",
       "      <td>1077430</td>\n",
       "      <td>1314167</td>\n",
       "      <td>2500.0</td>\n",
       "      <td>2500.0</td>\n",
       "      <td>2500.0</td>\n",
       "      <td>60 months</td>\n",
       "      <td>15.27</td>\n",
       "      <td>59.83</td>\n",
       "      <td>C</td>\n",
       "      <td>C4</td>\n",
       "      <td>...</td>\n",
       "      <td>NaN</td>\n",
       "      <td>NaN</td>\n",
       "      <td>NaN</td>\n",
       "      <td>NaN</td>\n",
       "      <td>NaN</td>\n",
       "      <td>NaN</td>\n",
       "      <td>NaN</td>\n",
       "      <td>NaN</td>\n",
       "      <td>NaN</td>\n",
       "      <td>1</td>\n",
       "    </tr>\n",
       "    <tr>\n",
       "      <th>2</th>\n",
       "      <td>1077175</td>\n",
       "      <td>1313524</td>\n",
       "      <td>2400.0</td>\n",
       "      <td>2400.0</td>\n",
       "      <td>2400.0</td>\n",
       "      <td>36 months</td>\n",
       "      <td>15.96</td>\n",
       "      <td>84.33</td>\n",
       "      <td>C</td>\n",
       "      <td>C5</td>\n",
       "      <td>...</td>\n",
       "      <td>NaN</td>\n",
       "      <td>NaN</td>\n",
       "      <td>NaN</td>\n",
       "      <td>NaN</td>\n",
       "      <td>NaN</td>\n",
       "      <td>NaN</td>\n",
       "      <td>NaN</td>\n",
       "      <td>NaN</td>\n",
       "      <td>NaN</td>\n",
       "      <td>0</td>\n",
       "    </tr>\n",
       "    <tr>\n",
       "      <th>3</th>\n",
       "      <td>1076863</td>\n",
       "      <td>1277178</td>\n",
       "      <td>10000.0</td>\n",
       "      <td>10000.0</td>\n",
       "      <td>10000.0</td>\n",
       "      <td>36 months</td>\n",
       "      <td>13.49</td>\n",
       "      <td>339.31</td>\n",
       "      <td>C</td>\n",
       "      <td>C1</td>\n",
       "      <td>...</td>\n",
       "      <td>NaN</td>\n",
       "      <td>NaN</td>\n",
       "      <td>NaN</td>\n",
       "      <td>NaN</td>\n",
       "      <td>NaN</td>\n",
       "      <td>NaN</td>\n",
       "      <td>NaN</td>\n",
       "      <td>NaN</td>\n",
       "      <td>NaN</td>\n",
       "      <td>0</td>\n",
       "    </tr>\n",
       "    <tr>\n",
       "      <th>4</th>\n",
       "      <td>1075358</td>\n",
       "      <td>1311748</td>\n",
       "      <td>3000.0</td>\n",
       "      <td>3000.0</td>\n",
       "      <td>3000.0</td>\n",
       "      <td>60 months</td>\n",
       "      <td>12.69</td>\n",
       "      <td>67.79</td>\n",
       "      <td>B</td>\n",
       "      <td>B5</td>\n",
       "      <td>...</td>\n",
       "      <td>NaN</td>\n",
       "      <td>NaN</td>\n",
       "      <td>NaN</td>\n",
       "      <td>NaN</td>\n",
       "      <td>NaN</td>\n",
       "      <td>NaN</td>\n",
       "      <td>NaN</td>\n",
       "      <td>NaN</td>\n",
       "      <td>NaN</td>\n",
       "      <td>0</td>\n",
       "    </tr>\n",
       "  </tbody>\n",
       "</table>\n",
       "<p>5 rows × 73 columns</p>\n",
       "</div>"
      ],
      "text/plain": [
       "        id  member_id  loan_amnt  funded_amnt  funded_amnt_inv        term  \\\n",
       "0  1077501    1296599     5000.0       5000.0           4975.0   36 months   \n",
       "1  1077430    1314167     2500.0       2500.0           2500.0   60 months   \n",
       "2  1077175    1313524     2400.0       2400.0           2400.0   36 months   \n",
       "3  1076863    1277178    10000.0      10000.0          10000.0   36 months   \n",
       "4  1075358    1311748     3000.0       3000.0           3000.0   60 months   \n",
       "\n",
       "   int_rate  installment grade sub_grade  ... il_util open_rv_12m open_rv_24m  \\\n",
       "0     10.65       162.87     B        B2  ...     NaN         NaN         NaN   \n",
       "1     15.27        59.83     C        C4  ...     NaN         NaN         NaN   \n",
       "2     15.96        84.33     C        C5  ...     NaN         NaN         NaN   \n",
       "3     13.49       339.31     C        C1  ...     NaN         NaN         NaN   \n",
       "4     12.69        67.79     B        B5  ...     NaN         NaN         NaN   \n",
       "\n",
       "   max_bal_bc all_util total_rev_hi_lim inq_fi total_cu_tl inq_last_12m  \\\n",
       "0         NaN      NaN              NaN    NaN         NaN          NaN   \n",
       "1         NaN      NaN              NaN    NaN         NaN          NaN   \n",
       "2         NaN      NaN              NaN    NaN         NaN          NaN   \n",
       "3         NaN      NaN              NaN    NaN         NaN          NaN   \n",
       "4         NaN      NaN              NaN    NaN         NaN          NaN   \n",
       "\n",
       "  default_ind  \n",
       "0           0  \n",
       "1           1  \n",
       "2           0  \n",
       "3           0  \n",
       "4           0  \n",
       "\n",
       "[5 rows x 73 columns]"
      ]
     },
     "execution_count": 3,
     "metadata": {},
     "output_type": "execute_result"
    }
   ],
   "source": [
    "loan_data.head()"
   ]
  },
  {
   "cell_type": "code",
   "execution_count": 4,
   "metadata": {},
   "outputs": [],
   "source": [
    "data_null = loan_data.isnull().sum()\n",
    "data_null = data_null[data_null.values>(0.8*len(loan_data))]"
   ]
  },
  {
   "cell_type": "code",
   "execution_count": 5,
   "metadata": {},
   "outputs": [],
   "source": [
    "loan_data = loan_data.drop(labels=list(data_null.index),axis=1)"
   ]
  },
  {
   "cell_type": "code",
   "execution_count": 6,
   "metadata": {},
   "outputs": [
    {
     "data": {
      "text/plain": [
       "19"
      ]
     },
     "execution_count": 6,
     "metadata": {},
     "output_type": "execute_result"
    }
   ],
   "source": [
    "data_null.count()"
   ]
  },
  {
   "cell_type": "markdown",
   "metadata": {},
   "source": [
    "# Exploratory Data Analysis"
   ]
  },
  {
   "cell_type": "markdown",
   "metadata": {},
   "source": [
    "Target Variable"
   ]
  },
  {
   "cell_type": "code",
   "execution_count": 7,
   "metadata": {},
   "outputs": [
    {
     "data": {
      "text/plain": [
       "0    809502\n",
       "1     46467\n",
       "Name: default_ind, dtype: int64"
      ]
     },
     "execution_count": 7,
     "metadata": {},
     "output_type": "execute_result"
    }
   ],
   "source": [
    "loan_data['default_ind'].value_counts()"
   ]
  },
  {
   "cell_type": "code",
   "execution_count": 8,
   "metadata": {},
   "outputs": [
    {
     "data": {
      "text/plain": [
       "<matplotlib.axes._subplots.AxesSubplot at 0x274cdff6fd0>"
      ]
     },
     "execution_count": 8,
     "metadata": {},
     "output_type": "execute_result"
    },
    {
     "data": {
      "image/png": "[encoded data removed]",
      "text/plain": [
       "<Figure size 432x288 with 1 Axes>"
      ]
     },
     "metadata": {
      "needs_background": "light"
     },
     "output_type": "display_data"
    }
   ],
   "source": [
    "sns.countplot('default_ind',data=loan_data)"
   ]
  },
  {
   "cell_type": "markdown",
   "metadata": {},
   "source": [
    "Categorical Variable"
   ]
  },
  {
   "cell_type": "code",
   "execution_count": 9,
   "metadata": {},
   "outputs": [
    {
     "data": {
      "text/plain": [
       " 36 months    600221\n",
       " 60 months    255748\n",
       "Name: term, dtype: int64"
      ]
     },
     "execution_count": 9,
     "metadata": {},
     "output_type": "execute_result"
    }
   ],
   "source": [
    "loan_data['term'].value_counts()"
   ]
  },
  {
   "cell_type": "code",
   "execution_count": 10,
   "metadata": {},
   "outputs": [
    {
     "data": {
      "text/plain": [
       "<matplotlib.axes._subplots.AxesSubplot at 0x274ceddcb38>"
      ]
     },
     "execution_count": 10,
     "metadata": {},
     "output_type": "execute_result"
    },
    {
     "data": {
      "image/png": "[encoded data removed]",
      "text/plain": [
       "<Figure size 432x288 with 1 Axes>"
      ]
     },
     "metadata": {
      "needs_background": "light"
     },
     "output_type": "display_data"
    }
   ],
   "source": [
    "sns.barplot(x='term',y='default_ind',data=loan_data)"
   ]
  },
  {
   "cell_type": "code",
   "execution_count": 11,
   "metadata": {},
   "outputs": [
    {
     "data": {
      "text/plain": [
       "<matplotlib.axes._subplots.AxesSubplot at 0x274cee55e10>"
      ]
     },
     "execution_count": 11,
     "metadata": {},
     "output_type": "execute_result"
    },
    {
     "data": {
      "image/png": "[encoded data removed]",
      "text/plain": [
       "<Figure size 432x288 with 1 Axes>"
      ]
     },
     "metadata": {
      "needs_background": "light"
     },
     "output_type": "display_data"
    }
   ],
   "source": [
    "sns.countplot('grade',data=loan_data,hue='default_ind',color='red',saturation=0.5)"
   ]
  },
  {
   "cell_type": "code",
   "execution_count": 12,
   "metadata": {},
   "outputs": [
    {
     "data": {
      "text/plain": [
       "<matplotlib.axes._subplots.AxesSubplot at 0x274ceeec7f0>"
      ]
     },
     "execution_count": 12,
     "metadata": {},
     "output_type": "execute_result"
    },
    {
     "data": {
      "image/png": "[encoded data removed]",
      "text/plain": [
       "<Figure size 432x288 with 1 Axes>"
      ]
     },
     "metadata": {
      "needs_background": "light"
     },
     "output_type": "display_data"
    }
   ],
   "source": [
    "sns.countplot('home_ownership',data=loan_data,hue='default_ind')"
   ]
  },
  {
   "cell_type": "code",
   "execution_count": 13,
   "metadata": {},
   "outputs": [
    {
     "data": {
      "text/plain": [
       "<matplotlib.axes._subplots.AxesSubplot at 0x274cef9add8>"
      ]
     },
     "execution_count": 13,
     "metadata": {},
     "output_type": "execute_result"
    },
    {
     "data": {
      "image/png": "[encoded data removed]",
      "text/plain": [
       "<Figure size 432x288 with 1 Axes>"
      ]
     },
     "metadata": {
      "needs_background": "light"
     },
     "output_type": "display_data"
    }
   ],
   "source": [
    "sns.barplot(x=\"verification_status\", y=\"default_ind\", data=loan_data)"
   ]
  },
  {
   "cell_type": "code",
   "execution_count": 14,
   "metadata": {},
   "outputs": [
    {
     "data": {
      "text/plain": [
       "(array([ 0,  1,  2,  3,  4,  5,  6,  7,  8,  9, 10, 11, 12, 13]),\n",
       " <a list of 14 Text xticklabel objects>)"
      ]
     },
     "execution_count": 14,
     "metadata": {},
     "output_type": "execute_result"
    },
    {
     "data": {
      "image/png": "[encoded data removed]",
      "text/plain": [
       "<Figure size 432x288 with 1 Axes>"
      ]
     },
     "metadata": {
      "needs_background": "light"
     },
     "output_type": "display_data"
    }
   ],
   "source": [
    "sns.countplot(loan_data['purpose'])\n",
    "plt.xticks(rotation=90)\n"
   ]
  },
  {
   "cell_type": "code",
   "execution_count": 15,
   "metadata": {},
   "outputs": [
    {
     "data": {
      "text/plain": [
       "<matplotlib.axes._subplots.AxesSubplot at 0x274cef607b8>"
      ]
     },
     "execution_count": 15,
     "metadata": {},
     "output_type": "execute_result"
    },
    {
     "data": {
      "image/png": "[encoded data removed]",
      "text/plain": [
       "<Figure size 432x288 with 1 Axes>"
      ]
     },
     "metadata": {
      "needs_background": "light"
     },
     "output_type": "display_data"
    }
   ],
   "source": [
    "sns.barplot(x='application_type',y='default_ind',data=loan_data)"
   ]
  },
  {
   "cell_type": "code",
   "execution_count": 16,
   "metadata": {},
   "outputs": [
    {
     "data": {
      "text/plain": [
       "<function matplotlib.pyplot.show(*args, **kw)>"
      ]
     },
     "execution_count": 16,
     "metadata": {},
     "output_type": "execute_result"
    },
    {
     "data": {
      "image/png": "[encoded data removed]",
      "text/plain": [
       "<Figure size 864x360 with 2 Axes>"
      ]
     },
     "metadata": {
      "needs_background": "light"
     },
     "output_type": "display_data"
    }
   ],
   "source": [
    "plt.figure(figsize=(12,5))\n",
    "plt.subplot(1,2,1)\n",
    "sns.countplot(loan_data['initial_list_status'])\n",
    "plt.subplot(1,2,2)\n",
    "sns.barplot(x='initial_list_status', y='default_ind', data=loan_data)\n",
    "plt.show"
   ]
  },
  {
   "cell_type": "markdown",
   "metadata": {},
   "source": [
    "Numeric Variables"
   ]
  },
  {
   "cell_type": "code",
   "execution_count": 17,
   "metadata": {},
   "outputs": [
    {
     "data": {
      "text/plain": [
       "<matplotlib.axes._subplots.AxesSubplot at 0x274cf203240>"
      ]
     },
     "execution_count": 17,
     "metadata": {},
     "output_type": "execute_result"
    },
    {
     "data": {
      "image/png": "[encoded data removed]",
      "text/plain": [
       "<Figure size 1152x360 with 3 Axes>"
      ]
     },
     "metadata": {
      "needs_background": "light"
     },
     "output_type": "display_data"
    }
   ],
   "source": [
    "f, axes = plt.subplots(1, 3, figsize=(16, 5), sharex=True)\n",
    "sns.distplot(loan_data['loan_amnt'] , color='skyblue', ax=axes[0])\n",
    "sns.distplot(loan_data['funded_amnt'] , color='olive', ax=axes[1])\n",
    "sns.distplot(loan_data['funded_amnt_inv'] , color='gold', ax=axes[2])"
   ]
  },
  {
   "cell_type": "code",
   "execution_count": 18,
   "metadata": {},
   "outputs": [
    {
     "data": {
      "text/plain": [
       "<matplotlib.axes._subplots.AxesSubplot at 0x274e4f1f828>"
      ]
     },
     "execution_count": 18,
     "metadata": {},
     "output_type": "execute_result"
    },
    {
     "data": {
      "image/png": "[encoded data removed]",
      "text/plain": [
       "<Figure size 432x288 with 1 Axes>"
      ]
     },
     "metadata": {
      "needs_background": "light"
     },
     "output_type": "display_data"
    }
   ],
   "source": [
    "sns.barplot(x=\"delinq_2yrs\", y=\"default_ind\", data=loan_data)"
   ]
  },
  {
   "cell_type": "code",
   "execution_count": 19,
   "metadata": {},
   "outputs": [
    {
     "data": {
      "text/plain": [
       "(array([ 86274., 144315., 154676., 192115., 119420.,  95011.,  30806.,\n",
       "         22093.,  10114.,   1145.]),\n",
       " array([ 5.32 ,  7.687, 10.054, 12.421, 14.788, 17.155, 19.522, 21.889,\n",
       "        24.256, 26.623, 28.99 ]),\n",
       " <a list of 10 Patch objects>)"
      ]
     },
     "execution_count": 19,
     "metadata": {},
     "output_type": "execute_result"
    },
    {
     "data": {
      "image/png": "[encoded data removed]",
      "text/plain": [
       "<Figure size 432x288 with 1 Axes>"
      ]
     },
     "metadata": {
      "needs_background": "light"
     },
     "output_type": "display_data"
    }
   ],
   "source": [
    "plt.hist(loan_data['int_rate'],facecolor='skyblue',edgecolor='purple')"
   ]
  },
  {
   "cell_type": "code",
   "execution_count": 20,
   "metadata": {},
   "outputs": [
    {
     "data": {
      "image/png": "[encoded data removed]",
      "text/plain": [
       "<Figure size 1152x576 with 2 Axes>"
      ]
     },
     "metadata": {
      "needs_background": "light"
     },
     "output_type": "display_data"
    }
   ],
   "source": [
    "plt.figure(figsize=(16,8))\n",
    "plt.subplot(2,1,1)\n",
    "sns.countplot(loan_data[\"pub_rec\"])\n",
    "plt.xticks(rotation='45')\n",
    "plt.subplot(2,1,2)\n",
    "sns.barplot(x=\"pub_rec\", y=\"default_ind\", data=loan_data)\n",
    "plt.xticks(rotation='45')\n",
    "plt.tight_layout()\n",
    "plt.show()"
   ]
  },
  {
   "cell_type": "code",
   "execution_count": 21,
   "metadata": {},
   "outputs": [
    {
     "data": {
      "text/plain": [
       "<matplotlib.axes._subplots.AxesSubplot at 0x274e5845550>"
      ]
     },
     "execution_count": 21,
     "metadata": {},
     "output_type": "execute_result"
    },
    {
     "data": {
      "image/png": "[encoded data removed]",
      "text/plain": [
       "<Figure size 432x288 with 1 Axes>"
      ]
     },
     "metadata": {
      "needs_background": "light"
     },
     "output_type": "display_data"
    }
   ],
   "source": [
    "sns.countplot('emp_length',data=loan_data,hue='default_ind')"
   ]
  },
  {
   "cell_type": "code",
   "execution_count": 22,
   "metadata": {},
   "outputs": [
    {
     "data": {
      "text/plain": [
       "<matplotlib.axes._subplots.AxesSubplot at 0x274cf0c67b8>"
      ]
     },
     "execution_count": 22,
     "metadata": {},
     "output_type": "execute_result"
    },
    {
     "data": {
      "image/png": "[encoded data removed]",
      "text/plain": [
       "<Figure size 720x360 with 1 Axes>"
      ]
     },
     "metadata": {
      "needs_background": "light"
     },
     "output_type": "display_data"
    }
   ],
   "source": [
    "#year wise prediction\n",
    "plt.figure(figsize=(10,5))\n",
    "loan_data['issue_year'] = loan_data['issue_d'].dt.year\n",
    "sns.barplot(x='issue_year',y='loan_amnt',data=loan_data)"
   ]
  },
  {
   "cell_type": "markdown",
   "metadata": {},
   "source": [
    "# Feature engineering"
   ]
  },
  {
   "cell_type": "markdown",
   "metadata": {},
   "source": [
    "Outliers"
   ]
  },
  {
   "cell_type": "code",
   "execution_count": 7,
   "metadata": {},
   "outputs": [
    {
     "data": {
      "text/plain": [
       "policy_code    1\n",
       "dtype: int64"
      ]
     },
     "execution_count": 7,
     "metadata": {},
     "output_type": "execute_result"
    }
   ],
   "source": [
    "unique = loan_data.nunique()\n",
    "unique = unique[unique.values==1]\n",
    "unique"
   ]
  },
  {
   "cell_type": "code",
   "execution_count": 8,
   "metadata": {},
   "outputs": [],
   "source": [
    "#drop unique value column\n",
    "loan_data=loan_data.drop(labels=list(unique.index),axis=1)"
   ]
  },
  {
   "cell_type": "code",
   "execution_count": 9,
   "metadata": {},
   "outputs": [
    {
     "name": "stdout",
     "output_type": "stream",
     "text": [
      "<class 'pandas.core.frame.DataFrame'>\n",
      "RangeIndex: 855969 entries, 0 to 855968\n",
      "Data columns (total 34 columns):\n",
      "id                             855969 non-null int64\n",
      "member_id                      855969 non-null int64\n",
      "loan_amnt                      855969 non-null float64\n",
      "funded_amnt                    855969 non-null float64\n",
      "funded_amnt_inv                855969 non-null float64\n",
      "int_rate                       855969 non-null float64\n",
      "installment                    855969 non-null float64\n",
      "annual_inc                     855969 non-null float64\n",
      "dti                            855969 non-null float64\n",
      "delinq_2yrs                    855969 non-null float64\n",
      "inq_last_6mths                 855969 non-null float64\n",
      "mths_since_last_delinq         416157 non-null float64\n",
      "open_acc                       855969 non-null float64\n",
      "pub_rec                        855969 non-null float64\n",
      "revol_bal                      855969 non-null float64\n",
      "revol_util                     855523 non-null float64\n",
      "total_acc                      855969 non-null float64\n",
      "out_prncp                      855969 non-null float64\n",
      "out_prncp_inv                  855969 non-null float64\n",
      "total_pymnt                    855969 non-null float64\n",
      "total_pymnt_inv                855969 non-null float64\n",
      "total_rec_prncp                855969 non-null float64\n",
      "total_rec_int                  855969 non-null float64\n",
      "total_rec_late_fee             855969 non-null float64\n",
      "recoveries                     855969 non-null float64\n",
      "collection_recovery_fee        855969 non-null float64\n",
      "last_pymnt_amnt                855969 non-null float64\n",
      "collections_12_mths_ex_med     855913 non-null float64\n",
      "mths_since_last_major_derog    213139 non-null float64\n",
      "acc_now_delinq                 855969 non-null float64\n",
      "tot_coll_amt                   788656 non-null float64\n",
      "tot_cur_bal                    788656 non-null float64\n",
      "total_rev_hi_lim               788656 non-null float64\n",
      "default_ind                    855969 non-null int64\n",
      "dtypes: float64(31), int64(3)\n",
      "memory usage: 222.0 MB\n"
     ]
    }
   ],
   "source": [
    "data_num = loan_data.select_dtypes(include = ['float64', 'int64'])\n",
    "data_num.info()"
   ]
  },
  {
   "cell_type": "markdown",
   "metadata": {},
   "source": [
    "Categorical variables"
   ]
  },
  {
   "cell_type": "code",
   "execution_count": 10,
   "metadata": {},
   "outputs": [
    {
     "data": {
      "text/plain": [
       "term                        2\n",
       "grade                       7\n",
       "sub_grade                  35\n",
       "emp_title              290912\n",
       "emp_length                 11\n",
       "home_ownership              6\n",
       "verification_status         3\n",
       "pymnt_plan                  2\n",
       "purpose                    14\n",
       "title                   60991\n",
       "zip_code                  931\n",
       "addr_state                 51\n",
       "earliest_cr_line          697\n",
       "initial_list_status         2\n",
       "last_pymnt_d               97\n",
       "next_pymnt_d                3\n",
       "last_credit_pull_d        102\n",
       "application_type            2\n",
       "dtype: int64"
      ]
     },
     "execution_count": 10,
     "metadata": {},
     "output_type": "execute_result"
    }
   ],
   "source": [
    "loan_data.select_dtypes('object').apply(pd.Series.nunique, axis=0)"
   ]
  },
  {
   "cell_type": "code",
   "execution_count": 11,
   "metadata": {},
   "outputs": [],
   "source": [
    "# Dropping the columns which has more number of categories\n",
    "del_cat_cols = ['sub_grade','verification_status','purpose','emp_title','title','zip_code','addr_state','earliest_cr_line','last_pymnt_d','last_credit_pull_d']"
   ]
  },
  {
   "cell_type": "code",
   "execution_count": 12,
   "metadata": {},
   "outputs": [],
   "source": [
    "loan_data = loan_data.drop(del_cat_cols,axis=1)"
   ]
  },
  {
   "cell_type": "code",
   "execution_count": 13,
   "metadata": {},
   "outputs": [
    {
     "data": {
      "text/plain": [
       "term                    2\n",
       "grade                   7\n",
       "emp_length             11\n",
       "home_ownership          6\n",
       "pymnt_plan              2\n",
       "initial_list_status     2\n",
       "next_pymnt_d            3\n",
       "application_type        2\n",
       "dtype: int64"
      ]
     },
     "execution_count": 13,
     "metadata": {},
     "output_type": "execute_result"
    }
   ],
   "source": [
    "loan_data.select_dtypes('object').apply(pd.Series.nunique, axis=0)"
   ]
  },
  {
   "cell_type": "code",
   "execution_count": 14,
   "metadata": {},
   "outputs": [
    {
     "data": {
      "text/plain": [
       "n    855964\n",
       "y         5\n",
       "Name: pymnt_plan, dtype: int64"
      ]
     },
     "execution_count": 14,
     "metadata": {},
     "output_type": "execute_result"
    }
   ],
   "source": [
    "loan_data.pymnt_plan.value_counts()"
   ]
  },
  {
   "cell_type": "code",
   "execution_count": 15,
   "metadata": {},
   "outputs": [],
   "source": [
    "#pymnt_plan: 'No 'plan is assigned to most of the observatoins\n",
    "loan_data = loan_data.drop(['pymnt_plan'],axis=1)"
   ]
  },
  {
   "cell_type": "code",
   "execution_count": 16,
   "metadata": {},
   "outputs": [],
   "source": [
    "# dropping rest of the irrelevant columns\n",
    "loan_data = loan_data.drop(['id','member_id','application_type'],axis=1)"
   ]
  },
  {
   "cell_type": "markdown",
   "metadata": {},
   "source": [
    "Converting categorical to numeric"
   ]
  },
  {
   "cell_type": "code",
   "execution_count": 17,
   "metadata": {},
   "outputs": [],
   "source": [
    "#since it has null values, will replace null values with 0\n",
    "loan_data.emp_length.fillna(value=0,inplace=True)"
   ]
  },
  {
   "cell_type": "code",
   "execution_count": 18,
   "metadata": {},
   "outputs": [],
   "source": [
    "loan_data['emp_length'].replace(to_replace='^<', value=0, inplace=True, regex=True)\n",
    "loan_data['emp_length'].replace(to_replace='[^0-9]+',value='',inplace=True,regex=True)"
   ]
  },
  {
   "cell_type": "code",
   "execution_count": 19,
   "metadata": {},
   "outputs": [
    {
     "data": {
      "text/plain": [
       "10    282090\n",
       "0     110658\n",
       "2      75986\n",
       "3      67392\n",
       "1      54855\n",
       "5      53812\n",
       "4      50643\n",
       "7      43204\n",
       "8      42421\n",
       "6      41446\n",
       "9      33462\n",
       "Name: emp_length, dtype: int64"
      ]
     },
     "execution_count": 19,
     "metadata": {},
     "output_type": "execute_result"
    }
   ],
   "source": [
    "loan_data.emp_length.value_counts()"
   ]
  },
  {
   "cell_type": "code",
   "execution_count": 20,
   "metadata": {},
   "outputs": [],
   "source": [
    "var_cat = ['emp_length','grade','term','home_ownership','next_pymnt_d','initial_list_status']"
   ]
  },
  {
   "cell_type": "code",
   "execution_count": 21,
   "metadata": {},
   "outputs": [],
   "source": [
    "from sklearn.preprocessing import LabelEncoder\n",
    "le = LabelEncoder()\n",
    "for i in var_cat:\n",
    "    le.fit(list(loan_data[i].values))\n",
    "    loan_data[i] = le.transform(list(loan_data[i]))"
   ]
  },
  {
   "cell_type": "code",
   "execution_count": 22,
   "metadata": {},
   "outputs": [
    {
     "data": {
      "text/plain": [
       "loan_amnt                           0\n",
       "funded_amnt                         0\n",
       "funded_amnt_inv                     0\n",
       "term                                0\n",
       "int_rate                            0\n",
       "installment                         0\n",
       "grade                               0\n",
       "emp_length                          0\n",
       "home_ownership                      0\n",
       "annual_inc                          0\n",
       "issue_d                             0\n",
       "dti                                 0\n",
       "delinq_2yrs                         0\n",
       "inq_last_6mths                      0\n",
       "mths_since_last_delinq         439812\n",
       "open_acc                            0\n",
       "pub_rec                             0\n",
       "revol_bal                           0\n",
       "revol_util                        446\n",
       "total_acc                           0\n",
       "initial_list_status                 0\n",
       "out_prncp                           0\n",
       "out_prncp_inv                       0\n",
       "total_pymnt                         0\n",
       "total_pymnt_inv                     0\n",
       "total_rec_prncp                     0\n",
       "total_rec_int                       0\n",
       "total_rec_late_fee                  0\n",
       "recoveries                          0\n",
       "collection_recovery_fee             0\n",
       "last_pymnt_amnt                     0\n",
       "next_pymnt_d                        0\n",
       "collections_12_mths_ex_med         56\n",
       "mths_since_last_major_derog    642830\n",
       "acc_now_delinq                      0\n",
       "tot_coll_amt                    67313\n",
       "tot_cur_bal                     67313\n",
       "total_rev_hi_lim                67313\n",
       "default_ind                         0\n",
       "dtype: int64"
      ]
     },
     "execution_count": 22,
     "metadata": {},
     "output_type": "execute_result"
    }
   ],
   "source": [
    "loan_data.isna().sum()"
   ]
  },
  {
   "cell_type": "code",
   "execution_count": 23,
   "metadata": {},
   "outputs": [],
   "source": [
    "# Dropping columns which has huge Null values\n",
    "del_num_cols = ['mths_since_last_delinq','mths_since_last_major_derog']\n",
    "loan_data = loan_data.drop(del_num_cols,axis=1)"
   ]
  },
  {
   "cell_type": "code",
   "execution_count": 24,
   "metadata": {},
   "outputs": [
    {
     "data": {
      "text/html": [
       "<div>\n",
       "<style scoped>\n",
       "    .dataframe tbody tr th:only-of-type {\n",
       "        vertical-align: middle;\n",
       "    }\n",
       "\n",
       "    .dataframe tbody tr th {\n",
       "        vertical-align: top;\n",
       "    }\n",
       "\n",
       "    .dataframe thead th {\n",
       "        text-align: right;\n",
       "    }\n",
       "</style>\n",
       "<table border=\"1\" class=\"dataframe\">\n",
       "  <thead>\n",
       "    <tr style=\"text-align: right;\">\n",
       "      <th></th>\n",
       "      <th>loan_amnt</th>\n",
       "      <th>funded_amnt</th>\n",
       "      <th>funded_amnt_inv</th>\n",
       "      <th>term</th>\n",
       "      <th>int_rate</th>\n",
       "      <th>installment</th>\n",
       "      <th>grade</th>\n",
       "      <th>emp_length</th>\n",
       "      <th>home_ownership</th>\n",
       "      <th>annual_inc</th>\n",
       "      <th>...</th>\n",
       "      <th>recoveries</th>\n",
       "      <th>collection_recovery_fee</th>\n",
       "      <th>last_pymnt_amnt</th>\n",
       "      <th>next_pymnt_d</th>\n",
       "      <th>collections_12_mths_ex_med</th>\n",
       "      <th>acc_now_delinq</th>\n",
       "      <th>tot_coll_amt</th>\n",
       "      <th>tot_cur_bal</th>\n",
       "      <th>total_rev_hi_lim</th>\n",
       "      <th>default_ind</th>\n",
       "    </tr>\n",
       "  </thead>\n",
       "  <tbody>\n",
       "    <tr>\n",
       "      <th>0</th>\n",
       "      <td>5000.0</td>\n",
       "      <td>5000.0</td>\n",
       "      <td>4975.0</td>\n",
       "      <td>0</td>\n",
       "      <td>10.65</td>\n",
       "      <td>162.87</td>\n",
       "      <td>1</td>\n",
       "      <td>2</td>\n",
       "      <td>5</td>\n",
       "      <td>24000.0</td>\n",
       "      <td>...</td>\n",
       "      <td>0.00</td>\n",
       "      <td>0.00</td>\n",
       "      <td>171.62</td>\n",
       "      <td>3</td>\n",
       "      <td>0.0</td>\n",
       "      <td>0.0</td>\n",
       "      <td>NaN</td>\n",
       "      <td>NaN</td>\n",
       "      <td>NaN</td>\n",
       "      <td>0</td>\n",
       "    </tr>\n",
       "    <tr>\n",
       "      <th>1</th>\n",
       "      <td>2500.0</td>\n",
       "      <td>2500.0</td>\n",
       "      <td>2500.0</td>\n",
       "      <td>1</td>\n",
       "      <td>15.27</td>\n",
       "      <td>59.83</td>\n",
       "      <td>2</td>\n",
       "      <td>0</td>\n",
       "      <td>5</td>\n",
       "      <td>30000.0</td>\n",
       "      <td>...</td>\n",
       "      <td>117.08</td>\n",
       "      <td>1.11</td>\n",
       "      <td>119.66</td>\n",
       "      <td>3</td>\n",
       "      <td>0.0</td>\n",
       "      <td>0.0</td>\n",
       "      <td>NaN</td>\n",
       "      <td>NaN</td>\n",
       "      <td>NaN</td>\n",
       "      <td>1</td>\n",
       "    </tr>\n",
       "    <tr>\n",
       "      <th>2</th>\n",
       "      <td>2400.0</td>\n",
       "      <td>2400.0</td>\n",
       "      <td>2400.0</td>\n",
       "      <td>0</td>\n",
       "      <td>15.96</td>\n",
       "      <td>84.33</td>\n",
       "      <td>2</td>\n",
       "      <td>2</td>\n",
       "      <td>5</td>\n",
       "      <td>12252.0</td>\n",
       "      <td>...</td>\n",
       "      <td>0.00</td>\n",
       "      <td>0.00</td>\n",
       "      <td>649.91</td>\n",
       "      <td>3</td>\n",
       "      <td>0.0</td>\n",
       "      <td>0.0</td>\n",
       "      <td>NaN</td>\n",
       "      <td>NaN</td>\n",
       "      <td>NaN</td>\n",
       "      <td>0</td>\n",
       "    </tr>\n",
       "    <tr>\n",
       "      <th>3</th>\n",
       "      <td>10000.0</td>\n",
       "      <td>10000.0</td>\n",
       "      <td>10000.0</td>\n",
       "      <td>0</td>\n",
       "      <td>13.49</td>\n",
       "      <td>339.31</td>\n",
       "      <td>2</td>\n",
       "      <td>2</td>\n",
       "      <td>5</td>\n",
       "      <td>49200.0</td>\n",
       "      <td>...</td>\n",
       "      <td>0.00</td>\n",
       "      <td>0.00</td>\n",
       "      <td>357.48</td>\n",
       "      <td>3</td>\n",
       "      <td>0.0</td>\n",
       "      <td>0.0</td>\n",
       "      <td>NaN</td>\n",
       "      <td>NaN</td>\n",
       "      <td>NaN</td>\n",
       "      <td>0</td>\n",
       "    </tr>\n",
       "    <tr>\n",
       "      <th>4</th>\n",
       "      <td>3000.0</td>\n",
       "      <td>3000.0</td>\n",
       "      <td>3000.0</td>\n",
       "      <td>1</td>\n",
       "      <td>12.69</td>\n",
       "      <td>67.79</td>\n",
       "      <td>1</td>\n",
       "      <td>1</td>\n",
       "      <td>5</td>\n",
       "      <td>80000.0</td>\n",
       "      <td>...</td>\n",
       "      <td>0.00</td>\n",
       "      <td>0.00</td>\n",
       "      <td>67.79</td>\n",
       "      <td>0</td>\n",
       "      <td>0.0</td>\n",
       "      <td>0.0</td>\n",
       "      <td>NaN</td>\n",
       "      <td>NaN</td>\n",
       "      <td>NaN</td>\n",
       "      <td>0</td>\n",
       "    </tr>\n",
       "  </tbody>\n",
       "</table>\n",
       "<p>5 rows × 37 columns</p>\n",
       "</div>"
      ],
      "text/plain": [
       "   loan_amnt  funded_amnt  funded_amnt_inv  term  int_rate  installment  \\\n",
       "0     5000.0       5000.0           4975.0     0     10.65       162.87   \n",
       "1     2500.0       2500.0           2500.0     1     15.27        59.83   \n",
       "2     2400.0       2400.0           2400.0     0     15.96        84.33   \n",
       "3    10000.0      10000.0          10000.0     0     13.49       339.31   \n",
       "4     3000.0       3000.0           3000.0     1     12.69        67.79   \n",
       "\n",
       "   grade  emp_length  home_ownership  annual_inc  ... recoveries  \\\n",
       "0      1           2               5     24000.0  ...       0.00   \n",
       "1      2           0               5     30000.0  ...     117.08   \n",
       "2      2           2               5     12252.0  ...       0.00   \n",
       "3      2           2               5     49200.0  ...       0.00   \n",
       "4      1           1               5     80000.0  ...       0.00   \n",
       "\n",
       "   collection_recovery_fee  last_pymnt_amnt  next_pymnt_d  \\\n",
       "0                     0.00           171.62             3   \n",
       "1                     1.11           119.66             3   \n",
       "2                     0.00           649.91             3   \n",
       "3                     0.00           357.48             3   \n",
       "4                     0.00            67.79             0   \n",
       "\n",
       "   collections_12_mths_ex_med  acc_now_delinq  tot_coll_amt  tot_cur_bal  \\\n",
       "0                         0.0             0.0           NaN          NaN   \n",
       "1                         0.0             0.0           NaN          NaN   \n",
       "2                         0.0             0.0           NaN          NaN   \n",
       "3                         0.0             0.0           NaN          NaN   \n",
       "4                         0.0             0.0           NaN          NaN   \n",
       "\n",
       "   total_rev_hi_lim  default_ind  \n",
       "0               NaN            0  \n",
       "1               NaN            1  \n",
       "2               NaN            0  \n",
       "3               NaN            0  \n",
       "4               NaN            0  \n",
       "\n",
       "[5 rows x 37 columns]"
      ]
     },
     "execution_count": 24,
     "metadata": {},
     "output_type": "execute_result"
    }
   ],
   "source": [
    "loan_data.head()"
   ]
  },
  {
   "cell_type": "code",
   "execution_count": 25,
   "metadata": {},
   "outputs": [
    {
     "name": "stdout",
     "output_type": "stream",
     "text": [
      "55.019404504615196\n",
      "32163.5745255219\n",
      "225.41288216915868\n",
      "139766.24752870706\n",
      "0.014230418278493258\n"
     ]
    }
   ],
   "source": [
    "print(loan_data['revol_util'].mean())\n",
    "print(loan_data['total_rev_hi_lim'].mean())\n",
    "print(loan_data['tot_coll_amt'].mean())\n",
    "print(loan_data['tot_cur_bal'].mean())\n",
    "print(loan_data['collections_12_mths_ex_med'].mean())"
   ]
  },
  {
   "cell_type": "code",
   "execution_count": 26,
   "metadata": {},
   "outputs": [
    {
     "name": "stdout",
     "output_type": "stream",
     "text": [
      "55.9\n",
      "23800.0\n",
      "0.0\n",
      "81008.5\n",
      "0.0\n"
     ]
    }
   ],
   "source": [
    "print(loan_data['revol_util'].median())\n",
    "print(loan_data['total_rev_hi_lim'].median())\n",
    "print(loan_data['tot_coll_amt'].median())\n",
    "print(loan_data['tot_cur_bal'].median())\n",
    "print(loan_data['collections_12_mths_ex_med'].median())"
   ]
  },
  {
   "cell_type": "code",
   "execution_count": 27,
   "metadata": {},
   "outputs": [],
   "source": [
    "loan_data['revol_util'].fillna(loan_data['revol_util'].median(), inplace=True)\n",
    "loan_data['total_rev_hi_lim'].fillna(loan_data['total_rev_hi_lim'].median(), inplace=True)\n",
    "loan_data['tot_coll_amt'].fillna(loan_data['tot_coll_amt'].median(), inplace=True)\n",
    "loan_data['tot_cur_bal'].fillna(loan_data['tot_cur_bal'].median(), inplace=True)\n",
    "loan_data['collections_12_mths_ex_med'].fillna(loan_data['collections_12_mths_ex_med'].median(),inplace=True)"
   ]
  },
  {
   "cell_type": "markdown",
   "metadata": {},
   "source": [
    "# Train and test data set creation"
   ]
  },
  {
   "cell_type": "code",
   "execution_count": 28,
   "metadata": {},
   "outputs": [],
   "source": [
    "#The data should be divided into train ( June 2007 - May 2015 ) and test ( June 2015 - Dec 2015 ) data."
   ]
  },
  {
   "cell_type": "code",
   "execution_count": 29,
   "metadata": {},
   "outputs": [
    {
     "name": "stdout",
     "output_type": "stream",
     "text": [
      "<class 'pandas.core.frame.DataFrame'>\n",
      "RangeIndex: 855969 entries, 0 to 855968\n",
      "Data columns (total 37 columns):\n",
      "loan_amnt                     855969 non-null float64\n",
      "funded_amnt                   855969 non-null float64\n",
      "funded_amnt_inv               855969 non-null float64\n",
      "term                          855969 non-null int64\n",
      "int_rate                      855969 non-null float64\n",
      "installment                   855969 non-null float64\n",
      "grade                         855969 non-null int64\n",
      "emp_length                    855969 non-null int64\n",
      "home_ownership                855969 non-null int64\n",
      "annual_inc                    855969 non-null float64\n",
      "issue_d                       855969 non-null datetime64[ns]\n",
      "dti                           855969 non-null float64\n",
      "delinq_2yrs                   855969 non-null float64\n",
      "inq_last_6mths                855969 non-null float64\n",
      "open_acc                      855969 non-null float64\n",
      "pub_rec                       855969 non-null float64\n",
      "revol_bal                     855969 non-null float64\n",
      "revol_util                    855969 non-null float64\n",
      "total_acc                     855969 non-null float64\n",
      "initial_list_status           855969 non-null int64\n",
      "out_prncp                     855969 non-null float64\n",
      "out_prncp_inv                 855969 non-null float64\n",
      "total_pymnt                   855969 non-null float64\n",
      "total_pymnt_inv               855969 non-null float64\n",
      "total_rec_prncp               855969 non-null float64\n",
      "total_rec_int                 855969 non-null float64\n",
      "total_rec_late_fee            855969 non-null float64\n",
      "recoveries                    855969 non-null float64\n",
      "collection_recovery_fee       855969 non-null float64\n",
      "last_pymnt_amnt               855969 non-null float64\n",
      "next_pymnt_d                  855969 non-null int64\n",
      "collections_12_mths_ex_med    855969 non-null float64\n",
      "acc_now_delinq                855969 non-null float64\n",
      "tot_coll_amt                  855969 non-null float64\n",
      "tot_cur_bal                   855969 non-null float64\n",
      "total_rev_hi_lim              855969 non-null float64\n",
      "default_ind                   855969 non-null int64\n",
      "dtypes: datetime64[ns](1), float64(29), int64(7)\n",
      "memory usage: 241.6 MB\n"
     ]
    }
   ],
   "source": [
    "store_data=loan_data.copy()\n",
    "store_data.info()"
   ]
  },
  {
   "cell_type": "code",
   "execution_count": 30,
   "metadata": {},
   "outputs": [],
   "source": [
    "# loan_data['issue_d']=pd.to_datetime(loan_data['issue_d'])\n",
    "# quan_date = loan_data['issue_d'].quantile(0.7)"
   ]
  },
  {
   "cell_type": "code",
   "execution_count": 31,
   "metadata": {},
   "outputs": [],
   "source": [
    "# train = loan_data.loc[loan_data['issue_d']<quan_date]\n",
    "# train.issue_d.unique()"
   ]
  },
  {
   "cell_type": "code",
   "execution_count": 32,
   "metadata": {},
   "outputs": [],
   "source": [
    "# test = loan_data.loc[loan_data['issue_d']>=quan_date]\n",
    "# test.issue_d.unique()"
   ]
  },
  {
   "cell_type": "code",
   "execution_count": 33,
   "metadata": {},
   "outputs": [],
   "source": [
    "#spliting dataframe into test and train set\n",
    "train = loan_data[loan_data['issue_d'] < '2015-6-01'].copy()\n",
    "test = loan_data[loan_data['issue_d'] >= '2015-6-01'].copy()\n",
    "train = train.drop('issue_d',axis=1)\n",
    "test = test.drop('issue_d',axis=1)\n"
   ]
  },
  {
   "cell_type": "code",
   "execution_count": 34,
   "metadata": {},
   "outputs": [
    {
     "name": "stdout",
     "output_type": "stream",
     "text": [
      "(598978, 36)\n",
      "(256991, 36)\n"
     ]
    }
   ],
   "source": [
    "print(train.shape)\n",
    "print(test.shape)"
   ]
  },
  {
   "cell_type": "code",
   "execution_count": 51,
   "metadata": {},
   "outputs": [],
   "source": [
    "# #assigning y-train\n",
    "# y_train = train['default_ind']\n",
    "# y_test = test['default_ind']"
   ]
  },
  {
   "cell_type": "code",
   "execution_count": 52,
   "metadata": {},
   "outputs": [],
   "source": [
    "# train = train.drop(['issue_d'],axis=1)\n",
    "# test = test.drop(['issue_d'],axis=1)"
   ]
  },
  {
   "cell_type": "code",
   "execution_count": 53,
   "metadata": {},
   "outputs": [],
   "source": [
    "# X_train = train\n",
    "# X_test = test\n",
    "# X_train.info()"
   ]
  },
  {
   "cell_type": "code",
   "execution_count": 35,
   "metadata": {},
   "outputs": [],
   "source": [
    "X_train = train.copy()\n",
    "y_train = X_train.pop('default_ind').copy()"
   ]
  },
  {
   "cell_type": "code",
   "execution_count": 36,
   "metadata": {},
   "outputs": [],
   "source": [
    "X_test = test.copy()\n",
    "y_test = X_test.pop('default_ind').copy()"
   ]
  },
  {
   "cell_type": "code",
   "execution_count": 37,
   "metadata": {},
   "outputs": [
    {
     "data": {
      "text/plain": [
       "loan_amnt                     0\n",
       "funded_amnt                   0\n",
       "funded_amnt_inv               0\n",
       "term                          0\n",
       "int_rate                      0\n",
       "installment                   0\n",
       "grade                         0\n",
       "emp_length                    0\n",
       "home_ownership                0\n",
       "annual_inc                    0\n",
       "issue_d                       0\n",
       "dti                           0\n",
       "delinq_2yrs                   0\n",
       "inq_last_6mths                0\n",
       "open_acc                      0\n",
       "pub_rec                       0\n",
       "revol_bal                     0\n",
       "revol_util                    0\n",
       "total_acc                     0\n",
       "initial_list_status           0\n",
       "out_prncp                     0\n",
       "out_prncp_inv                 0\n",
       "total_pymnt                   0\n",
       "total_pymnt_inv               0\n",
       "total_rec_prncp               0\n",
       "total_rec_int                 0\n",
       "total_rec_late_fee            0\n",
       "recoveries                    0\n",
       "collection_recovery_fee       0\n",
       "last_pymnt_amnt               0\n",
       "next_pymnt_d                  0\n",
       "collections_12_mths_ex_med    0\n",
       "acc_now_delinq                0\n",
       "tot_coll_amt                  0\n",
       "tot_cur_bal                   0\n",
       "total_rev_hi_lim              0\n",
       "default_ind                   0\n",
       "dtype: int64"
      ]
     },
     "execution_count": 37,
     "metadata": {},
     "output_type": "execute_result"
    }
   ],
   "source": [
    "loan_data.isnull().sum()"
   ]
  },
  {
   "cell_type": "markdown",
   "metadata": {},
   "source": [
    "# Model"
   ]
  },
  {
   "cell_type": "code",
   "execution_count": 38,
   "metadata": {},
   "outputs": [],
   "source": [
    "from sklearn.linear_model import LogisticRegression\n",
    "from sklearn.neighbors import KNeighborsClassifier\n",
    "from sklearn.tree import DecisionTreeClassifier\n",
    "from sklearn.feature_selection import SelectFromModel\n",
    "from sklearn.ensemble import RandomForestClassifier\n",
    "from sklearn.metrics import confusion_matrix,precision_score,recall_score,roc_auc_score,classification_report"
   ]
  },
  {
   "cell_type": "code",
   "execution_count": 39,
   "metadata": {},
   "outputs": [
    {
     "data": {
      "text/plain": [
       "SelectFromModel(estimator=RandomForestClassifier(bootstrap=True,\n",
       "                                                 class_weight=None,\n",
       "                                                 criterion='gini',\n",
       "                                                 max_depth=None,\n",
       "                                                 max_features='auto',\n",
       "                                                 max_leaf_nodes=None,\n",
       "                                                 min_impurity_decrease=0.0,\n",
       "                                                 min_impurity_split=None,\n",
       "                                                 min_samples_leaf=1,\n",
       "                                                 min_samples_split=2,\n",
       "                                                 min_weight_fraction_leaf=0.0,\n",
       "                                                 n_estimators=100, n_jobs=None,\n",
       "                                                 oob_score=False,\n",
       "                                                 random_state=None, verbose=0,\n",
       "                                                 warm_start=False),\n",
       "                max_features=None, norm_order=1, prefit=False, threshold=None)"
      ]
     },
     "execution_count": 39,
     "metadata": {},
     "output_type": "execute_result"
    }
   ],
   "source": [
    "select = SelectFromModel(RandomForestClassifier(n_estimators=100))\n",
    "select.fit(X_train,y_train)"
   ]
  },
  {
   "cell_type": "code",
   "execution_count": 40,
   "metadata": {},
   "outputs": [
    {
     "data": {
      "text/plain": [
       "12"
      ]
     },
     "execution_count": 40,
     "metadata": {},
     "output_type": "execute_result"
    }
   ],
   "source": [
    "#checking most important features selected\n",
    "imp_features = X_train.columns[(select.get_support())]\n",
    "len(imp_features)"
   ]
  },
  {
   "cell_type": "code",
   "execution_count": 41,
   "metadata": {},
   "outputs": [
    {
     "name": "stdout",
     "output_type": "stream",
     "text": [
      "Index(['funded_amnt', 'funded_amnt_inv', 'installment', 'out_prncp',\n",
      "       'out_prncp_inv', 'total_pymnt', 'total_pymnt_inv', 'total_rec_prncp',\n",
      "       'recoveries', 'collection_recovery_fee', 'last_pymnt_amnt',\n",
      "       'next_pymnt_d'],\n",
      "      dtype='object')\n"
     ]
    }
   ],
   "source": [
    "print(imp_features)"
   ]
  },
  {
   "cell_type": "code",
   "execution_count": 42,
   "metadata": {},
   "outputs": [
    {
     "name": "stderr",
     "output_type": "stream",
     "text": [
      "C:\\Users\\Kavya\\Anaconda3\\lib\\site-packages\\sklearn\\ensemble\\forest.py:245: FutureWarning: The default value of n_estimators will change from 10 in version 0.20 to 100 in 0.22.\n",
      "  \"10 in version 0.20 to 100 in 0.22.\", FutureWarning)\n"
     ]
    },
    {
     "data": {
      "text/plain": [
       "0.3857022230350479"
      ]
     },
     "execution_count": 42,
     "metadata": {},
     "output_type": "execute_result"
    }
   ],
   "source": [
    "rf = RandomForestClassifier() \n",
    "#Fit the model on your training data.\n",
    "rf.fit(X_train, y_train) \n",
    "#And score it on your testing data.\n",
    "rf.score(X_test, y_test)"
   ]
  },
  {
   "cell_type": "code",
   "execution_count": 43,
   "metadata": {},
   "outputs": [
    {
     "name": "stdout",
     "output_type": "stream",
     "text": [
      "Variable: collection_recovery_fee Importance: 0.16\n",
      "Variable: recoveries           Importance: 0.13\n",
      "Variable: total_rec_prncp      Importance: 0.12\n",
      "Variable: total_pymnt          Importance: 0.1\n",
      "Variable: last_pymnt_amnt      Importance: 0.09\n",
      "Variable: total_pymnt_inv      Importance: 0.07\n",
      "Variable: out_prncp_inv        Importance: 0.05\n",
      "Variable: next_pymnt_d         Importance: 0.05\n",
      "Variable: loan_amnt            Importance: 0.04\n",
      "Variable: funded_amnt          Importance: 0.04\n",
      "Variable: funded_amnt_inv      Importance: 0.03\n",
      "Variable: installment          Importance: 0.03\n",
      "Variable: out_prncp            Importance: 0.03\n",
      "Variable: int_rate             Importance: 0.01\n",
      "Variable: grade                Importance: 0.01\n",
      "Variable: total_rec_int        Importance: 0.01\n",
      "Variable: total_rec_late_fee   Importance: 0.01\n",
      "Variable: term                 Importance: 0.0\n",
      "Variable: emp_length           Importance: 0.0\n",
      "Variable: home_ownership       Importance: 0.0\n",
      "Variable: annual_inc           Importance: 0.0\n",
      "Variable: dti                  Importance: 0.0\n",
      "Variable: delinq_2yrs          Importance: 0.0\n",
      "Variable: inq_last_6mths       Importance: 0.0\n",
      "Variable: open_acc             Importance: 0.0\n",
      "Variable: pub_rec              Importance: 0.0\n",
      "Variable: revol_bal            Importance: 0.0\n",
      "Variable: revol_util           Importance: 0.0\n",
      "Variable: total_acc            Importance: 0.0\n",
      "Variable: initial_list_status  Importance: 0.0\n",
      "Variable: collections_12_mths_ex_med Importance: 0.0\n",
      "Variable: acc_now_delinq       Importance: 0.0\n",
      "Variable: tot_coll_amt         Importance: 0.0\n",
      "Variable: tot_cur_bal          Importance: 0.0\n",
      "Variable: total_rev_hi_lim     Importance: 0.0\n"
     ]
    }
   ],
   "source": [
    "# Get numerical feature importances\n",
    "importances = list(rf.feature_importances_)\n",
    "feature_list = train.columns.tolist()[:-1]\n",
    "# # List of tuples with variable and importance\n",
    "feature_importances = [(feature, round(importance, 2)) for feature, importance in zip(feature_list, importances)]\n",
    "# # Sort the feature importances by most important first\n",
    "feature_importances = sorted(feature_importances, key = lambda x: x[1], reverse = True)\n",
    "# # Print out the feature and importances \n",
    "[print('Variable: {:20} Importance: {}'.format(*pair)) for pair in feature_importances];\n"
   ]
  },
  {
   "cell_type": "code",
   "execution_count": 44,
   "metadata": {},
   "outputs": [],
   "source": [
    "#Dropping columns which are least importance\n",
    "drop_features = ['open_acc','total_acc','revol_bal','revol_util','collections_12_mths_ex_med','total_rec_late_fee',\n",
    "                 'acc_now_delinq','tot_coll_amt','tot_cur_bal', 'total_rev_hi_lim']"
   ]
  },
  {
   "cell_type": "code",
   "execution_count": 45,
   "metadata": {},
   "outputs": [],
   "source": [
    "X_train=X_train.drop(drop_features,axis=1)\n",
    "X_test=X_test.drop(drop_features,axis=1)"
   ]
  },
  {
   "cell_type": "code",
   "execution_count": 46,
   "metadata": {},
   "outputs": [
    {
     "name": "stderr",
     "output_type": "stream",
     "text": [
      "C:\\Users\\Kavya\\Anaconda3\\lib\\site-packages\\sklearn\\linear_model\\logistic.py:432: FutureWarning: Default solver will be changed to 'lbfgs' in 0.22. Specify a solver to silence this warning.\n",
      "  FutureWarning)\n"
     ]
    },
    {
     "data": {
      "text/plain": [
       "99.69"
      ]
     },
     "execution_count": 46,
     "metadata": {},
     "output_type": "execute_result"
    }
   ],
   "source": [
    "logreg = LogisticRegression()\n",
    "logreg.fit(X_train, y_train)\n",
    "Y_pred = logreg.predict(X_test)\n",
    "acc_log = round(logreg.score(X_train, y_train) * 100, 2)\n",
    "acc_log"
   ]
  },
  {
   "cell_type": "code",
   "execution_count": 47,
   "metadata": {},
   "outputs": [
    {
     "name": "stdout",
     "output_type": "stream",
     "text": [
      "confusion_matrix \n",
      " [[256632     48]\n",
      " [    63    248]]\n",
      "precision_score\t\t 0.8378378378378378\n",
      "recall_score\t\t 0.797427652733119\n",
      "roc_auc_score \t\t 0.8986203247302809\n",
      "classification_report \n",
      "               precision    recall  f1-score   support\n",
      "\n",
      "           0       1.00      1.00      1.00    256680\n",
      "           1       0.84      0.80      0.82       311\n",
      "\n",
      "    accuracy                           1.00    256991\n",
      "   macro avg       0.92      0.90      0.91    256991\n",
      "weighted avg       1.00      1.00      1.00    256991\n",
      "\n"
     ]
    }
   ],
   "source": [
    "\n",
    "print(\"confusion_matrix \\n\",confusion_matrix(y_test,Y_pred))\n",
    "print(\"precision_score\\t\\t\",precision_score(y_test,Y_pred))\n",
    "print(\"recall_score\\t\\t\",recall_score(y_test,Y_pred))\n",
    "print(\"roc_auc_score \\t\\t\",roc_auc_score(y_test,Y_pred))\n",
    "print(\"classification_report \\n\",classification_report(y_test,Y_pred))"
   ]
  },
  {
   "cell_type": "code",
   "execution_count": 48,
   "metadata": {},
   "outputs": [
    {
     "data": {
      "text/plain": [
       "99.67"
      ]
     },
     "execution_count": 48,
     "metadata": {},
     "output_type": "execute_result"
    }
   ],
   "source": [
    "#KNeighborsClassifier\n",
    "\n",
    "knn = KNeighborsClassifier(n_neighbors = 3)\n",
    "knn.fit(X_train, y_train)\n",
    "Y_pred = knn.predict(X_test)\n",
    "acc_knn = round(knn.score(X_train, y_train) * 100, 2)\n",
    "acc_knn"
   ]
  },
  {
   "cell_type": "code",
   "execution_count": 49,
   "metadata": {},
   "outputs": [
    {
     "name": "stdout",
     "output_type": "stream",
     "text": [
      "confusion_matrix \n",
      " [[236042  20638]\n",
      " [    52    259]]\n",
      "precision_score\t\t 0.012394123558405513\n",
      "recall_score\t\t 0.8327974276527331\n",
      "roc_auc_score \t\t 0.8761969061280651\n",
      "classification_report \n",
      "               precision    recall  f1-score   support\n",
      "\n",
      "           0       1.00      0.92      0.96    256680\n",
      "           1       0.01      0.83      0.02       311\n",
      "\n",
      "    accuracy                           0.92    256991\n",
      "   macro avg       0.51      0.88      0.49    256991\n",
      "weighted avg       1.00      0.92      0.96    256991\n",
      "\n"
     ]
    }
   ],
   "source": [
    "print(\"confusion_matrix \\n\",confusion_matrix(y_test,Y_pred))\n",
    "print(\"precision_score\\t\\t\",precision_score(y_test,Y_pred))\n",
    "print(\"recall_score\\t\\t\",recall_score(y_test,Y_pred))\n",
    "print(\"roc_auc_score \\t\\t\",roc_auc_score(y_test,Y_pred))\n",
    "print(\"classification_report \\n\",classification_report(y_test,Y_pred))"
   ]
  },
  {
   "cell_type": "code",
   "execution_count": 50,
   "metadata": {},
   "outputs": [
    {
     "data": {
      "text/plain": [
       "100.0"
      ]
     },
     "execution_count": 50,
     "metadata": {},
     "output_type": "execute_result"
    }
   ],
   "source": [
    "# Decision Tree\n",
    "\n",
    "decision_tree = DecisionTreeClassifier()\n",
    "decision_tree.fit(X_train, y_train)\n",
    "Y_pred = decision_tree.predict(X_test)\n",
    "acc_decision_tree = round(decision_tree.score(X_train, y_train) * 100, 2)\n",
    "acc_decision_tree"
   ]
  },
  {
   "cell_type": "code",
   "execution_count": 51,
   "metadata": {},
   "outputs": [
    {
     "name": "stdout",
     "output_type": "stream",
     "text": [
      "confusion_matrix \n",
      " [[ 70143 186537]\n",
      " [     1    310]]\n",
      "precision_score\t\t 0.0016591114655306212\n",
      "recall_score\t\t 0.9967845659163987\n",
      "roc_auc_score \t\t 0.635027392822622\n",
      "classification_report \n",
      "               precision    recall  f1-score   support\n",
      "\n",
      "           0       1.00      0.27      0.43    256680\n",
      "           1       0.00      1.00      0.00       311\n",
      "\n",
      "    accuracy                           0.27    256991\n",
      "   macro avg       0.50      0.64      0.22    256991\n",
      "weighted avg       1.00      0.27      0.43    256991\n",
      "\n"
     ]
    }
   ],
   "source": [
    "print(\"confusion_matrix \\n\",confusion_matrix(y_test,Y_pred))\n",
    "print(\"precision_score\\t\\t\",precision_score(y_test,Y_pred))\n",
    "print(\"recall_score\\t\\t\",recall_score(y_test,Y_pred))\n",
    "print(\"roc_auc_score \\t\\t\",roc_auc_score(y_test,Y_pred))\n",
    "print(\"classification_report \\n\",classification_report(y_test,Y_pred))"
   ]
  },
  {
   "cell_type": "code",
   "execution_count": 52,
   "metadata": {},
   "outputs": [
    {
     "data": {
      "text/plain": [
       "100.0"
      ]
     },
     "execution_count": 52,
     "metadata": {},
     "output_type": "execute_result"
    }
   ],
   "source": [
    "#RandomForestClassifier\n",
    "\n",
    "random_forest = RandomForestClassifier(n_estimators=100)\n",
    "random_forest.fit(X_train, y_train)\n",
    "Y_pred = random_forest.predict(X_test)\n",
    "random_forest.score(X_train, y_train)\n",
    "acc_random_forest = round(random_forest.score(X_train, y_train) * 100, 2)\n",
    "acc_random_forest"
   ]
  },
  {
   "cell_type": "code",
   "execution_count": 53,
   "metadata": {},
   "outputs": [
    {
     "name": "stdout",
     "output_type": "stream",
     "text": [
      "confusion_matrix \n",
      " [[ 82078 174602]\n",
      " [     1    310]]\n",
      "precision_score\t\t 0.001772319795096963\n",
      "recall_score\t\t 0.9967845659163987\n",
      "roc_auc_score \t\t 0.6582761850931533\n",
      "classification_report \n",
      "               precision    recall  f1-score   support\n",
      "\n",
      "           0       1.00      0.32      0.48    256680\n",
      "           1       0.00      1.00      0.00       311\n",
      "\n",
      "    accuracy                           0.32    256991\n",
      "   macro avg       0.50      0.66      0.24    256991\n",
      "weighted avg       1.00      0.32      0.48    256991\n",
      "\n"
     ]
    }
   ],
   "source": [
    "print(\"confusion_matrix \\n\",confusion_matrix(y_test,Y_pred))\n",
    "print(\"precision_score\\t\\t\",precision_score(y_test,Y_pred))\n",
    "print(\"recall_score\\t\\t\",recall_score(y_test,Y_pred))\n",
    "print(\"roc_auc_score \\t\\t\",roc_auc_score(y_test,Y_pred))\n",
    "print(\"classification_report \\n\",classification_report(y_test,Y_pred))"
   ]
  },
  {
   "cell_type": "code",
   "execution_count": 54,
   "metadata": {},
   "outputs": [
    {
     "data": {
      "text/plain": [
       "99.61"
      ]
     },
     "execution_count": 54,
     "metadata": {},
     "output_type": "execute_result"
    }
   ],
   "source": [
    "# Stochastic Gradient Descent\n",
    "from sklearn.linear_model import SGDClassifier\n",
    "sgd = SGDClassifier()\n",
    "sgd.fit(X_train, y_train)\n",
    "Y_pred = sgd.predict(X_test)\n",
    "acc_sgd = round(sgd.score(X_train, y_train) * 100, 2)\n",
    "acc_sgd"
   ]
  },
  {
   "cell_type": "code",
   "execution_count": 55,
   "metadata": {},
   "outputs": [
    {
     "name": "stdout",
     "output_type": "stream",
     "text": [
      "confusion_matrix \n",
      " [[256628     52]\n",
      " [    64    247]]\n",
      "precision_score\t\t 0.8260869565217391\n",
      "recall_score\t\t 0.7942122186495176\n",
      "roc_auc_score \t\t 0.8970048158854569\n",
      "classification_report \n",
      "               precision    recall  f1-score   support\n",
      "\n",
      "           0       1.00      1.00      1.00    256680\n",
      "           1       0.83      0.79      0.81       311\n",
      "\n",
      "    accuracy                           1.00    256991\n",
      "   macro avg       0.91      0.90      0.90    256991\n",
      "weighted avg       1.00      1.00      1.00    256991\n",
      "\n"
     ]
    }
   ],
   "source": [
    "print(\"confusion_matrix \\n\",confusion_matrix(y_test,Y_pred))\n",
    "print(\"precision_score\\t\\t\",precision_score(y_test,Y_pred))\n",
    "print(\"recall_score\\t\\t\",recall_score(y_test,Y_pred))\n",
    "print(\"roc_auc_score \\t\\t\",roc_auc_score(y_test,Y_pred))\n",
    "print(\"classification_report \\n\",classification_report(y_test,Y_pred))"
   ]
  },
  {
   "cell_type": "code",
   "execution_count": null,
   "metadata": {},
   "outputs": [],
   "source": [
    "models = pd.DataFrame({\n",
    "    'Model': [ 'KNN', 'Logistic Regression', 'Random Forest','Decision Tree',' Stochastic Gradient Descent'],\n",
    "    'Score': [ acc_knn, acc_log,acc_random_forest, acc_decision_tree,acc_sgd]})\n",
    "models.sort_values(by='Score', ascending=False)"
   ]
  },
  {
   "cell_type": "code",
   "execution_count": null,
   "metadata": {},
   "outputs": [],
   "source": []
  }
 ],
 "metadata": {
  "kernelspec": {
   "display_name": "Python 3",
   "language": "python",
   "name": "python3"
  },
  "language_info": {
   "codemirror_mode": {
    "name": "ipython",
    "version": 3
   },
   "file_extension": ".py",
   "mimetype": "text/x-python",
   "name": "python",
   "nbconvert_exporter": "python",
   "pygments_lexer": "ipython3",
   "version": "3.7.3"
  }
 },
 "nbformat": 4,
 "nbformat_minor": 2
}
